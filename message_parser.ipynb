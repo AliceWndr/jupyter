{
 "cells": [
  {
   "cell_type": "code",
   "execution_count": 1,
   "metadata": {
    "collapsed": false
   },
   "outputs": [],
   "source": [
    "import pandas as pd\n",
    "pd.set_option('display.max_colwidth', 250)"
   ]
  },
  {
   "cell_type": "code",
   "execution_count": 2,
   "metadata": {
    "collapsed": false
   },
   "outputs": [],
   "source": [
    "scn_messages = pd.read_csv('sc_messages.csv', sep=';', header=None)"
   ]
  },
  {
   "cell_type": "code",
   "execution_count": 3,
   "metadata": {
    "collapsed": false
   },
   "outputs": [],
   "source": [
    "scn_messages.columns = ['SCENARIO','DESCRIPTION']\n",
    "scenario_names = ['SC01', 'SC04', 'SC05', 'SC08', 'SC10', 'SC11', 'SC12', 'SC16', 'SC17', 'SC18', 'SC21', 'SC24', 'SC26', 'SC27', 'SC28', 'SC29', 'SC31', 'SC32', 'SC36', 'SC37', 'SC38', 'SC39', 'SC40', 'SC41']"
   ]
  },
  {
   "cell_type": "code",
   "execution_count": 4,
   "metadata": {
    "collapsed": true
   },
   "outputs": [],
   "source": [
    "def is_int(word):\n",
    "    try:\n",
    "        int(word)\n",
    "        return True\n",
    "    except ValueError:\n",
    "        return False"
   ]
  },
  {
   "cell_type": "code",
   "execution_count": 5,
   "metadata": {
    "collapsed": false
   },
   "outputs": [],
   "source": [
    "def find_nth_number(text, n):\n",
    "    splitted = text.split(' ')\n",
    "    elements = len(splitted)\n",
    "    nr_count = 0\n",
    "    i = 0\n",
    "    while (nr_count < n) & (i < elements):\n",
    "        word = splitted[i]\n",
    "        word = word.replace(',', '') # removing commas in number (thousands separator)\n",
    "        if is_int(word):\n",
    "            nr_count +=1\n",
    "            nr = int(word)\n",
    "        elif (word.find(\".\") != -1) and (is_int(word.replace('.', ''))):\n",
    "            nr_count +=1\n",
    "            nr = float(word)\n",
    "        i += 1\n",
    "    return nr"
   ]
  },
  {
   "cell_type": "code",
   "execution_count": 6,
   "metadata": {
    "collapsed": false
   },
   "outputs": [],
   "source": [
    "def extract_nr_after_string(text, string_before):\n",
    "    length = len(string_before)\n",
    "    nr_start = text.find(string_before) + length\n",
    "    nr_found = False\n",
    "    nr_length = 1\n",
    "    while not(nr_found):\n",
    "        nr_end = nr_start + nr_length\n",
    "        nr_to_check = text[nr_start:nr_end].replace(',', '')\n",
    "        if is_int(nr_to_check):\n",
    "            nr = int(nr_to_check)\n",
    "            nr_length += 1\n",
    "        elif (nr_to_check.find(\".\") != -1) and (is_int(nr_to_check.replace('.', ''))):\n",
    "            nr = float(nr_to_check)\n",
    "            nr_length += 1\n",
    "        else:\n",
    "            nr = find_nth_number(text[nr_start:nr_end-1], 1)\n",
    "            nr_found = True\n",
    "    return nr"
   ]
  },
  {
   "cell_type": "code",
   "execution_count": 7,
   "metadata": {
    "collapsed": true
   },
   "outputs": [],
   "source": [
    "def parse_sc01(msg):\n",
    "    amount_list = []\n",
    "    positions = [2]\n",
    "    cols = ['SC01_DAILY_MAX_TR']\n",
    "    for i in range(len(positions)):\n",
    "        amount_list.append(find_nth_number(msg, positions[i]))\n",
    "    return pd.Series(data = amount_list, index=cols)"
   ]
  },
  {
   "cell_type": "code",
   "execution_count": 8,
   "metadata": {
    "collapsed": true
   },
   "outputs": [],
   "source": [
    "def parse_sc04(msg):\n",
    "    amount_list = []\n",
    "    positions = [1, 4, 5]\n",
    "    cols = ['SC04_CASH_DEP_W', 'SC04_CASH_DEP_AV', 'SC04_CASH_DEP_SD']\n",
    "    for i in range(len(positions)):\n",
    "        amount_list.append(find_nth_number(msg, positions[i]))\n",
    "    return pd.Series(data = amount_list, index=cols)"
   ]
  },
  {
   "cell_type": "code",
   "execution_count": 9,
   "metadata": {
    "collapsed": true
   },
   "outputs": [],
   "source": [
    "def parse_sc05(msg):\n",
    "    amount_list = []\n",
    "    positions = [1, 3]\n",
    "    cols = ['SC05_CASH_DEP_W_C', 'SC05_CASH_DEP']\n",
    "    for i in range(len(positions)):\n",
    "        amount_list.append(find_nth_number(msg, positions[i]))\n",
    "    return pd.Series(data = amount_list, index=cols)"
   ]
  },
  {
   "cell_type": "code",
   "execution_count": 10,
   "metadata": {
    "collapsed": true
   },
   "outputs": [],
   "source": [
    "def parse_sc08(msg):\n",
    "    amount_list = []\n",
    "    positions = [1, 2, 4]\n",
    "    cols = ['SC08_CASH_DEP_W', 'SC08_CASH_DEP_W2', 'SC08_CASH_DEP_W3', 'SC08_BRANCHES_C']\n",
    "    for i in range(len(positions)):\n",
    "        amount_list.append(find_nth_number(msg, positions[i]))\n",
    "    amount_list.append(extract_nr_after_string(msg, \"at least \"))\n",
    "    return pd.Series(data = amount_list, index=cols)"
   ]
  },
  {
   "cell_type": "code",
   "execution_count": 11,
   "metadata": {
    "collapsed": false
   },
   "outputs": [],
   "source": [
    "def parse_sc10(msg):\n",
    "    amount_list = []\n",
    "    positions = [1, 2, 4]\n",
    "    cols = ['SC10_CASH_DEP_W', 'SC10_CASH_DEP_W2', 'SC10_CASH_DEP_W3']\n",
    "    for i in range(len(positions)):\n",
    "        amount_list.append(find_nth_number(msg, positions[i]))\n",
    "    return pd.Series(data = amount_list, index=cols)"
   ]
  },
  {
   "cell_type": "code",
   "execution_count": 12,
   "metadata": {
    "collapsed": true
   },
   "outputs": [],
   "source": [
    "def parse_sc11(msg):\n",
    "    amount_list = []\n",
    "    positions = [1, 4, 5]\n",
    "    cols = ['SC11_CASH_WD_W', 'SC11_CASH_WD_AV', 'SC11_CASH_WD_SD']\n",
    "    for i in range(len(positions)):\n",
    "        amount_list.append(find_nth_number(msg, positions[i]))\n",
    "    return pd.Series(data = amount_list, index=cols)"
   ]
  },
  {
   "cell_type": "code",
   "execution_count": 13,
   "metadata": {
    "collapsed": true
   },
   "outputs": [],
   "source": [
    "def parse_sc12(msg):\n",
    "    amount_list = []\n",
    "    positions = [1, 3]\n",
    "    cols = ['SC12_CASH_WD_W_C', 'SC12_CASH_WD']\n",
    "    for i in range(len(positions)):\n",
    "        amount_list.append(find_nth_number(msg, positions[i]))\n",
    "    return pd.Series(data = amount_list, index=cols)"
   ]
  },
  {
   "cell_type": "code",
   "execution_count": 14,
   "metadata": {
    "collapsed": true
   },
   "outputs": [],
   "source": [
    "def parse_sc16(msg):\n",
    "    amount_list = []\n",
    "    positions = [1]\n",
    "    cols = ['SC16_CREDIT_TR']\n",
    "    for i in range(len(positions)):\n",
    "        amount_list.append(find_nth_number(msg, positions[i]))\n",
    "    return pd.Series(data = amount_list, index=cols)"
   ]
  },
  {
   "cell_type": "code",
   "execution_count": 15,
   "metadata": {
    "collapsed": true
   },
   "outputs": [],
   "source": [
    "def parse_sc17(msg):\n",
    "    amount_list = []\n",
    "    positions = [1]\n",
    "    cols = ['SC17_CREDIT_TR']\n",
    "    for i in range(len(positions)):\n",
    "        amount_list.append(find_nth_number(msg, positions[i]))\n",
    "    return pd.Series(data = amount_list, index=cols)"
   ]
  },
  {
   "cell_type": "code",
   "execution_count": 16,
   "metadata": {
    "collapsed": true
   },
   "outputs": [],
   "source": [
    "def parse_sc18(msg):\n",
    "    amount_list = []\n",
    "    positions = [1]\n",
    "    cols = ['SC18_CREDIT_TR']\n",
    "    for i in range(len(positions)):\n",
    "        amount_list.append(find_nth_number(msg, positions[i]))\n",
    "    return pd.Series(data = amount_list, index=cols)"
   ]
  },
  {
   "cell_type": "code",
   "execution_count": 17,
   "metadata": {
    "collapsed": true
   },
   "outputs": [],
   "source": [
    "def parse_sc21(msg):\n",
    "    amount_list = []\n",
    "    positions = [1]\n",
    "    cols = ['SC21_CREDIT_SINCE_ACC']\n",
    "    for i in range(len(positions)):\n",
    "        amount_list.append(find_nth_number(msg, positions[i]))\n",
    "    return pd.Series(data = amount_list, index=cols)"
   ]
  },
  {
   "cell_type": "code",
   "execution_count": 18,
   "metadata": {
    "collapsed": true
   },
   "outputs": [],
   "source": [
    "def parse_sc24(msg):\n",
    "    amount_list = []\n",
    "    positions = [1, 2, 3, 4]\n",
    "    cols = ['SC24_RECEIVED_W', 'SC24_DEBITED_W', 'SC24_RECEIVED_W2', 'SC24_DEBITED_W2']\n",
    "    for i in range(len(positions)):\n",
    "        amount_list.append(find_nth_number(msg, positions[i]))\n",
    "    return pd.Series(data = amount_list, index=cols)"
   ]
  },
  {
   "cell_type": "code",
   "execution_count": 19,
   "metadata": {
    "collapsed": true
   },
   "outputs": [],
   "source": [
    "def parse_sc26(msg):\n",
    "    amount_list = []\n",
    "    positions = [1, 2, 3, 4]\n",
    "    cols = ['SC26_RECEIVED_W', 'SC26_CASH_DEP_W', 'SC26_RECEIVED_W2', 'SC26_CASH_DEP_W2']\n",
    "    for i in range(len(positions)):\n",
    "        amount_list.append(find_nth_number(msg, positions[i]))\n",
    "    return pd.Series(data = amount_list, index=cols)"
   ]
  },
  {
   "cell_type": "code",
   "execution_count": 20,
   "metadata": {
    "collapsed": true
   },
   "outputs": [],
   "source": [
    "def parse_sc27(msg):\n",
    "    amount_list = []\n",
    "    cols = ['SC27_CASH_DEP_INT_W', 'SC27_DEBIT_INT_W', 'SC27_CASH_DEP_INT_W2', 'SC27_DEBIT_INT_W2']\n",
    "    amount_list.append(find_nth_number(msg, 1))\n",
    "    amount_list.append(extract_nr_after_string(msg, \"in cash and\"))\n",
    "    amount_list.append(find_nth_number(msg, 2))\n",
    "    amount_list.append(find_nth_number(msg, 3))\n",
    "    return pd.Series(data = amount_list, index=cols)"
   ]
  },
  {
   "cell_type": "code",
   "execution_count": 21,
   "metadata": {
    "collapsed": true
   },
   "outputs": [],
   "source": [
    "def parse_sc28(msg):\n",
    "    amount_list = []\n",
    "    positions = [1, 2, 3, 4]\n",
    "    cols = ['SC28_RECEIVED_INT_W', 'SC28_CASH_WD_W', 'SC28_RECEIVED_INT_W2', 'SC28_CASH_WD_W2']\n",
    "    for i in range(len(positions)):\n",
    "        amount_list.append(find_nth_number(msg, positions[i]))\n",
    "    return pd.Series(data = amount_list, index=cols)"
   ]
  },
  {
   "cell_type": "code",
   "execution_count": 22,
   "metadata": {
    "collapsed": true
   },
   "outputs": [],
   "source": [
    "def parse_sc29(msg):\n",
    "    amount_list = []\n",
    "    positions = [1, 2, 3, 4]\n",
    "    cols = ['SC29_RECEIVED_INT_W', 'SC29_SENT_ABROAD_W', 'SC29_RECEIVED_INT_W2', 'SC29_SENT_ABROAD_W2']\n",
    "    for i in range(len(positions)):\n",
    "        amount_list.append(find_nth_number(msg, positions[i]))\n",
    "    return pd.Series(data = amount_list, index=cols)"
   ]
  },
  {
   "cell_type": "code",
   "execution_count": 23,
   "metadata": {
    "collapsed": true
   },
   "outputs": [],
   "source": [
    "def parse_sc31(msg):\n",
    "    amount_list = []\n",
    "    positions = [1, 2]\n",
    "    cols = ['SC31_DEBIT_TR', 'SC31_CREDIT_W4_C', 'SC31_CREDIT_W4_AV']\n",
    "    for i in range(len(positions)):\n",
    "        amount_list.append(find_nth_number(msg, positions[i]))\n",
    "    amount_list.append(extract_nr_after_string(msg, \"(\"))\n",
    "    return pd.Series(data = amount_list, index=cols)"
   ]
  },
  {
   "cell_type": "code",
   "execution_count": 24,
   "metadata": {
    "collapsed": true
   },
   "outputs": [],
   "source": [
    "def parse_sc32(msg):\n",
    "    amount_list = []\n",
    "    positions = [1, 3, 5, 6, 7]\n",
    "    cols = ['SC32_DEBIT_TR', 'SC32_BALANCE', 'SC32_BLANCE_M0_AV', 'SC32_BLANCE_M1_AV', 'SC32_BLANCE_M2_AV']\n",
    "    for i in range(len(positions)):\n",
    "        amount_list.append(find_nth_number(msg, positions[i]))\n",
    "    return pd.Series(data = amount_list, index=cols)"
   ]
  },
  {
   "cell_type": "code",
   "execution_count": 25,
   "metadata": {
    "collapsed": true
   },
   "outputs": [],
   "source": [
    "def parse_sc36(msg):\n",
    "    amount_list = []\n",
    "    cols = ['SC36_IN_WIRE_T', 'SC36_CREDIT_TURNOVER_M1', 'SC36_CREDIT_TURNOVER_M2', 'SC36_CREDIT_TURNOVER_M3']\n",
    "    amount_list.append(find_nth_number(msg, 1))\n",
    "    amount_list.append(find_nth_number(msg, 4))\n",
    "    amount_list.append(extract_nr_after_string(msg, \"month-2: \"))\n",
    "    amount_list.append(find_nth_number(msg, 5))\n",
    "    return pd.Series(data = amount_list, index=cols)"
   ]
  },
  {
   "cell_type": "code",
   "execution_count": 26,
   "metadata": {
    "collapsed": true
   },
   "outputs": [],
   "source": [
    "def parse_sc37(msg):\n",
    "    amount_list = []\n",
    "    positions = [1, 4, 5, 6]\n",
    "    cols = ['SC37_OUT_WIRE_T', 'SC37_CREDIT_TURNOVER_M1', 'SC37_CREDIT_TURNOVER_M2', 'SC37_CREDIT_TURNOVER_M3']\n",
    "    for i in range(len(positions)):\n",
    "        amount_list.append(find_nth_number(msg, positions[i]))\n",
    "    return pd.Series(data = amount_list, index=cols)"
   ]
  },
  {
   "cell_type": "code",
   "execution_count": 27,
   "metadata": {
    "collapsed": true
   },
   "outputs": [],
   "source": [
    "def parse_sc38(msg):\n",
    "    amount_list = []\n",
    "    positions = [1, 2, 3, 5]\n",
    "    cols = ['SC38_TR_M0_C', 'SC38_TR_M0', 'SC38_TR_M6_C', 'SC38_TR_M6']\n",
    "    for i in range(len(positions)):\n",
    "        amount_list.append(find_nth_number(msg, positions[i]))\n",
    "    return pd.Series(data = amount_list, index=cols)"
   ]
  },
  {
   "cell_type": "code",
   "execution_count": 28,
   "metadata": {
    "collapsed": true
   },
   "outputs": [],
   "source": [
    "def parse_sc39(msg):\n",
    "    amount_list = []\n",
    "    cols = ['SC39_TR_M0_C', 'SC39_TR_M_AV_M6', 'SC39_TR_M0', 'SC39_TR_M6_C']\n",
    "    amount_list.append(extract_nr_after_string(msg, \"monthly number of transactions (\"))\n",
    "    amount_list.append(extract_nr_after_string(msg, \"past six months (\"))\n",
    "    amount_list.append(extract_nr_after_string(msg, \"monthly transaction amount (\"))\n",
    "    amount_list.append(extract_nr_after_string(msg, \"and the number of transactions of the past six months (\"))\n",
    "    return pd.Series(data = amount_list, index=cols)"
   ]
  },
  {
   "cell_type": "code",
   "execution_count": 29,
   "metadata": {
    "collapsed": true
   },
   "outputs": [],
   "source": [
    "def parse_sc40(msg):\n",
    "    amount_list = []\n",
    "    cols = ['SC40_INT_TR_M0_C', 'SC40_INT_TR_M_AV_M6', 'SC40_INT_TR_M0', 'SC40_INT_TR_M6_C']\n",
    "    amount_list.append(extract_nr_after_string(msg, \"monthly number of international transactions (\"))\n",
    "    amount_list.append(extract_nr_after_string(msg, \"past six months (\"))\n",
    "    amount_list.append(extract_nr_after_string(msg, \"transaction amount (\"))\n",
    "    amount_list.append(extract_nr_after_string(msg, \"number of international transactions of the past six months (\"))\n",
    "    return pd.Series(data = amount_list, index=cols)"
   ]
  },
  {
   "cell_type": "code",
   "execution_count": 30,
   "metadata": {
    "collapsed": true
   },
   "outputs": [],
   "source": [
    "def parse_sc41(msg):\n",
    "    amount_list = []\n",
    "    positions = [1]\n",
    "    cols = ['SC41_CASH_AND_WIRE_W']\n",
    "    for i in range(len(positions)):\n",
    "        amount_list.append(find_nth_number(msg, positions[i]))\n",
    "    return pd.Series(data = amount_list, index=cols)"
   ]
  },
  {
   "cell_type": "code",
   "execution_count": 31,
   "metadata": {
    "collapsed": false
   },
   "outputs": [],
   "source": [
    "parsing_functions = [parse_sc01, parse_sc04, parse_sc05, parse_sc08, parse_sc10, parse_sc11, parse_sc12, parse_sc16, parse_sc17, parse_sc18, parse_sc21, parse_sc24, parse_sc26, parse_sc27, parse_sc28, parse_sc29, parse_sc31, parse_sc32, parse_sc36, parse_sc37, parse_sc38, parse_sc39, parse_sc40, parse_sc41]"
   ]
  },
  {
   "cell_type": "code",
   "execution_count": 32,
   "metadata": {
    "collapsed": false
   },
   "outputs": [],
   "source": [
    "for i in range(len(parsing_functions)):\n",
    "    sc_name = scenario_names[i]\n",
    "    sc_df = scn_messages[scn_messages['SCENARIO'] == sc_name]\n",
    "    if i == 0:\n",
    "        calc_df = sc_df['DESCRIPTION'].apply(lambda x: parsing_functions[i](x))\n",
    "    else:\n",
    "        concat_df = sc_df['DESCRIPTION'].apply(lambda x: parsing_functions[i](x))\n",
    "        calc_df = pd.concat([concat_df, calc_df], axis=1)\n",
    "\n",
    "full_df = pd.concat([scn_messages, calc_df], axis=1)"
   ]
  },
  {
   "cell_type": "code",
   "execution_count": 35,
   "metadata": {
    "collapsed": false
   },
   "outputs": [],
   "source": [
    "full_df.to_csv('alert_data.csv', sep='|', index=False, encoding='utf8')\n",
    "full_df.to_csv('alert_data_semicol.csv', sep=';', index=False, encoding='utf8')"
   ]
  }
 ],
 "metadata": {
  "anaconda-cloud": {},
  "kernelspec": {
   "display_name": "Python [default]",
   "language": "python",
   "name": "python3"
  },
  "language_info": {
   "codemirror_mode": {
    "name": "ipython",
    "version": 3
   },
   "file_extension": ".py",
   "mimetype": "text/x-python",
   "name": "python",
   "nbconvert_exporter": "python",
   "pygments_lexer": "ipython3",
   "version": "3.5.2"
  }
 },
 "nbformat": 4,
 "nbformat_minor": 1
}
